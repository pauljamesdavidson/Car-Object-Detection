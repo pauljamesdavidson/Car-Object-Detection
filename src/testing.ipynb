{
 "cells": [
  {
   "cell_type": "code",
   "execution_count": null,
   "metadata": {},
   "outputs": [],
   "source": [
    "from ultralytics import YOLO\n",
    "import torch\n",
    "\n",
    "# Initialize a new YOLO object with the desired configuration\n",
    "model = YOLO()  \n",
    "\n",
    "# Load the state dictionary, adjusting for the size mismatch error\n",
    "state_dict = torch.load('runs/detect/train3/weights/best.pt')\n",
    "model_state_dict = model.state_dict()\n",
    "\n",
    "# Filter out unnecessary keys from the state dictionary\n",
    "state_dict = {k: v for k, v in state_dict.items() if k in model_state_dict}\n",
    "\n",
    "# Update the model's state dictionary with the filtered state dictionary\n",
    "model_state_dict.update(state_dict)\n",
    "\n",
    "# Load the updated state dictionary into the model\n",
    "model.load_state_dict(model_state_dict)\n",
    "\n",
    "# Test on new images\n",
    "results = model.predict(source='data/testing_images', save=True)\n",
    "\n",
    "# Plot the results\n",
    "import matplotlib.pyplot as plt\n",
    "\n",
    "# Load an image from the results\n",
    "image_path = results.imgs[0]  # Assuming you want to plot the first image\n",
    "image = plt.imread(image_path)\n",
    "\n",
    "# Plot the image\n",
    "plt.figure(figsize=(10, 10))\n",
    "plt.imshow(image)\n",
    "\n",
    "# Plot the bounding boxes and labels\n",
    "for label, box in zip(results.names[0], results.pred[0]):\n",
    "    box = [int(i) for i in box]\n",
    "    plt.rectangle(xy=(box[0], box[1]), width=box[2]-box[0], height=box[3]-box[1], fill=False, color='red')\n",
    "    plt.text(box[0], box[1], label, color='red')\n",
    "\n",
    "plt.axis('off')\n",
    "plt.show()\n"
   ]
  },
  {
   "cell_type": "code",
   "execution_count": null,
   "metadata": {},
   "outputs": [],
   "source": []
  }
 ],
 "metadata": {
  "kernelspec": {
   "display_name": "mmaction",
   "language": "python",
   "name": "python3"
  },
  "language_info": {
   "codemirror_mode": {
    "name": "ipython",
    "version": 3
   },
   "file_extension": ".py",
   "mimetype": "text/x-python",
   "name": "python",
   "nbconvert_exporter": "python",
   "pygments_lexer": "ipython3",
   "version": "3.12.2"
  }
 },
 "nbformat": 4,
 "nbformat_minor": 2
}
